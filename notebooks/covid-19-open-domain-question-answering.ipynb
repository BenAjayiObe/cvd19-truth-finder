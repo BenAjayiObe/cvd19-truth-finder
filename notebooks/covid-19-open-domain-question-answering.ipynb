{
 "cells": [
  {
   "cell_type": "markdown",
   "metadata": {
    "colab_type": "text",
    "id": "bwgK8elxNsk7"
   },
   "source": [
    "# Kaggle COVID 19 CORD-19-research-challenge\n",
    "https://www.kaggle.com/allen-institute-for-ai/CORD-19-research-challenge\n",
    "\n",
    "## 1. Prepare Environment and dowload data"
   ]
  },
  {
   "cell_type": "code",
   "execution_count": 0,
   "metadata": {
    "colab": {},
    "colab_type": "code",
    "id": "cn2mmFn6Inad"
   },
   "outputs": [],
   "source": [
    "# connect to drive\n",
    "%cd \"/content/drive/My Drive\"\n",
    "%mkdir covid19\n",
    "%cd covid19\n",
    "\n",
    "# clone repo for codes\n",
    "%mkdir code \n",
    "%mkdir model\n",
    "%cd code \n",
    "\n",
    "!git clone https://github.com/dmis-lab/bioasq-biobert.git\n",
    "!git clone https://github.com/facebookresearch/DrQA.git\n",
    "%cd bioasq-biobert\n",
    "!pip install -r requirements.txt\n",
    "\n",
    "# download data\n",
    "!pip install kaggle\n",
    "%cd ..\n",
    "%cd ..\n",
    "%mkdir data \n",
    "%cd data\n",
    "%cd /root\n",
    "!mkdir .kaggle\n",
    "%cd .kaggle\n",
    "! echo -e '{\"username\":\"ari994\",\"key\":\"0a0aa1fca6f950db4ee7c046894640b7\"}' >> kaggle.json\n",
    "%cd \"/content/drive/My Drive/covid19/data\"\n",
    "!kaggle datasets download allen-institute-for-ai/CORD-19-research-challenge\n",
    "!unzip CORD-19-research-challenge.zip\n",
    "%cd /content/drive/My Drive/covid19/code/DrQA\n",
    "!pip install -r requirements.txt\n",
    "!python setup.py develop"
   ]
  },
  {
   "cell_type": "code",
   "execution_count": 0,
   "metadata": {
    "colab": {
     "base_uri": "https://localhost:8080/",
     "height": 68
    },
    "colab_type": "code",
    "id": "uuyn4CZ_Oq6V",
    "outputId": "04131cb2-9575-45ee-9da4-5b447b88e77f"
   },
   "outputs": [],
   "source": [
    "%cd \"/content/drive/My Drive/covid19/data\"\n",
    "import os\n",
    "import json \n",
    "from tqdm import tqdm\n",
    "\n",
    "path_to_jsons = \"2020-03-13/comm_use_subset/comm_use_subset\"\n",
    "\n",
    "jsons = os.listdir(path_to_jsons)\n",
    "\n",
    "def extract_abstracts(jsons, out=\"abstracts.txt\"):\n",
    "  f = open(out, \"w\")\n",
    "  n_processed = 0\n",
    "  for j in tqdm(jsons):\n",
    "    j = json.loads(open(path_to_jsons+\"/\"+j).read())\n",
    "    t = j['metadata']['title'].strip()\n",
    "    abst = \"\"\n",
    "    if len(j['abstract']) == 0 or len(t.strip())==0:\n",
    "      continue\n",
    "    else:\n",
    "      n_processed += 1\n",
    "    \n",
    "    for a in j['abstract']:\n",
    "      abst += a['text'].strip()+\" \"\n",
    "    f.write(t+\"\\t\"+abst+\"\\n\")\n",
    "  f.close()\n",
    "  print(n_processed)\n",
    "\n",
    "def extract_text(jsons, out=\"text.txt\"):\n",
    "  f = open(out, \"w\")\n",
    "  n_processed = 0\n",
    "  thresh_words = 300\n",
    "  for j in tqdm(jsons):\n",
    "    j = json.loads(open(path_to_jsons+\"/\"+j).read())\n",
    "    t = j['metadata']['title'].strip()\n",
    "    text = \"\"\n",
    "    if len(t.strip())==0:\n",
    "      continue\n",
    "    else:\n",
    "      n_processed += 1\n",
    "    ix = 1\n",
    "    for a in j['abstract']:\n",
    "      text += a['text'].strip()+\" \"\n",
    "      if len(text.split(\" \")) >= thresh_words:\n",
    "        f.write(j['paper_id']+\"_\"+str(ix)+\"|\"+t+\"|\"+text+\"\\n\")\n",
    "        text = \"\"\n",
    "        ix += 1\n",
    "    # for b in j['body_text']:\n",
    "    #   text += b['text'].strip() \n",
    "    #   if len(text.split(\" \")) >= thresh_words:\n",
    "    #     f.write(j['paper_id']+\"_\"+str(ix)+\"|\"+t+\"|\"+text+\"\\n\")\n",
    "    #     text = \"\"\n",
    "    #     ix += 1\n",
    "    f.write(j['paper_id']+\"_\"+str(ix)+\"|\"+t+\"|\"+text+\"\\n\")\n",
    "  f.close()\n",
    "  print(n_processed)\n",
    "\n",
    "# extract_abstracts(jsons)\n",
    "extract_text(jsons)"
   ]
  },
  {
   "cell_type": "code",
   "execution_count": 0,
   "metadata": {
    "colab": {
     "base_uri": "https://localhost:8080/",
     "height": 34
    },
    "colab_type": "code",
    "id": "Td83UtlVUxQy",
    "outputId": "71203451-fc28-418f-fb9d-9437b596403f"
   },
   "outputs": [],
   "source": [
    "# convert data to DrQA doc retriver format\n",
    "def convert_to_drqa_retriver(text_fn):\n",
    "  f = open(text_fn)\n",
    "  fn = open(\"/content/drive/My Drive/covid19/data/data_drqa_retriver.json\",\"w\")\n",
    "  n_line = 0\n",
    "  for line in f:\n",
    "    n_line += 1\n",
    "    d_id = line.split(\"|\")[0] + \" | \"+line.split(\"|\")[1]\n",
    "    content = line.split(\"|\")[2]\n",
    "    fn.write(json.dumps({\"id\": d_id, \"text\": content.strip()})+\"\\n\")\n",
    "  fn.close()\n",
    "  print(n_line,\"processed.\")\n",
    "\n",
    "convert_to_drqa_retriver(\"/content/drive/My Drive/covid19/data/text.txt\")"
   ]
  },
  {
   "cell_type": "markdown",
   "metadata": {
    "colab_type": "text",
    "id": "PbaNvDJMKMfn"
   },
   "source": [
    "## 3. Train Document Ranker\n",
    "\n",
    "### 3.1 Tf-Idf based DrQA ranker\n",
    "\n",
    "https://github.com/facebookresearch/DrQA/tree/master/scripts/retriever"
   ]
  },
  {
   "cell_type": "code",
   "execution_count": 0,
   "metadata": {
    "colab": {
     "base_uri": "https://localhost:8080/",
     "height": 459
    },
    "colab_type": "code",
    "id": "XzgZMkfsI_rr",
    "outputId": "ca8f75b3-3762-4803-d351-6848873b3f7e"
   },
   "outputs": [],
   "source": [
    "%cd \"/content/drive/My Drive/covid19/code/DrQA/scripts/retriever\"\n",
    "!rm -f \"/content/drive/My Drive/covid19/data/doc.db\"\n",
    "!python build_db.py \"/content/drive/My Drive/covid19/data/data_drqa_retriver.json\" \"/content/drive/My Drive/covid19/data/doc.db\" --num-workers 6\n",
    "!mkdir \"/content/drive/My Drive/covid19/model/drqa_doc_ranker\"\n",
    "!python build_tfidf.py \"/content/drive/My Drive/covid19/data/doc.db\" \"/content/drive/My Drive/covid19/model/drqa_doc_ranker\" --num-workers 6\n",
    "#test doc ranker\n",
    "%cd \"/content/drive/My Drive/covid19/code/DrQA/scripts/retriever\"\n",
    "!python interactive.py --model \"/content/drive/My Drive/covid19/model/drqa_doc_ranker/doc-tfidf-ngram=2-hash=16777216-tokenizer=simple.npz\""
   ]
  },
  {
   "cell_type": "markdown",
   "metadata": {
    "colab_type": "text",
    "id": "DIZwo1_kWoyr"
   },
   "source": [
    "### 3.2 Lucene Ranker"
   ]
  },
  {
   "cell_type": "code",
   "execution_count": 0,
   "metadata": {
    "colab": {
     "base_uri": "https://localhost:8080/",
     "height": 102
    },
    "colab_type": "code",
    "id": "v4OOTgkyKwF8",
    "outputId": "d76bcec5-281c-45dc-9099-f8021fbbc58e"
   },
   "outputs": [],
   "source": []
  },
  {
   "cell_type": "code",
   "execution_count": 0,
   "metadata": {
    "colab": {},
    "colab_type": "code",
    "id": "30PZf3kgeQB0"
   },
   "outputs": [],
   "source": [
    "%cd \"/content/drive/My Drive/covid19/data/\"\n",
    "data = \"/content/drive/My Drive/covid19/data/data_drqa_retriver.json\"\n",
    "\n"
   ]
  },
  {
   "cell_type": "markdown",
   "metadata": {
    "colab_type": "text",
    "id": "T2os6oA5txx3"
   },
   "source": [
    "## 4. Prepare data for QnA"
   ]
  },
  {
   "cell_type": "code",
   "execution_count": 0,
   "metadata": {
    "colab": {},
    "colab_type": "code",
    "id": "43JlTYaSt2RW"
   },
   "outputs": [],
   "source": [
    "# download data and config\n",
    "%cd \"/content/drive/My Drive/covid19/data\"\n",
    "\n",
    "!wget https://raw.githubusercontent.com/circulosmeos/gdown.pl/master/gdown.pl\n",
    "!chmod 777 gdown.pl\n",
    "\n",
    "!./gdown.pl \"https://drive.google.com/file/d/17fX1-oChZ5rxu-e-JuaZl2I96q1dGJO4/view\" bert_config.json\n",
    "!./gdown.pl \"https://drive.google.com/file/d/1GQUvBbXvlI_PeUPsZTqh7xQDZMOXh7ko/view\" vocab.txt\n"
   ]
  },
  {
   "cell_type": "code",
   "execution_count": 0,
   "metadata": {
    "colab": {
     "base_uri": "https://localhost:8080/",
     "height": 129
    },
    "colab_type": "code",
    "id": "3CuBHkmHuh8l",
    "outputId": "4b633568-cc62-41a2-f88b-40c5e1d6799e"
   },
   "outputs": [],
   "source": [
    "#download pretrained model\n",
    "%cd \"/content/drive/My Drive/covid19/model\"\n",
    "!wget https://raw.githubusercontent.com/circulosmeos/gdown.pl/master/gdown.pl\n",
    "!chmod 777 gdown.pl\n",
    "!./gdown.pl \"https://drive.google.com/uc?id=1rXFQRcV69QHAxghQ3NeAlhkg6ykpflVK&export=download\" BERT-pubmed-1000000-SQuAD.tar.gz\n",
    "!tar -xvf BERT-pubmed-1000000-SQuAD.tar.gz\n",
    "!rm -f BERT-pubmed-1000000-SQuAD.tar.gz"
   ]
  },
  {
   "cell_type": "markdown",
   "metadata": {
    "colab_type": "text",
    "id": "ezFQK5ZAw-j3"
   },
   "source": [
    "## 5. Train BERT QnA\n",
    "\n",
    "https://github.com/dmis-lab/bioasq-biobert"
   ]
  },
  {
   "cell_type": "code",
   "execution_count": 0,
   "metadata": {
    "colab": {},
    "colab_type": "code",
    "id": "C9FzQ976xBia"
   },
   "outputs": [],
   "source": [
    "%cd \"/content/drive/My Drive/covid19/code/bioasq-biobert\"\n",
    "!export BIOBERT_DIR=\"/content/drive/My Drive/covid19/model\"\n",
    "!export BIOASQ_DIR=\"/content/drive/My Drive/covid19/data\"\n",
    "\n",
    "!python run_factoid.py \\\n",
    "     --do_train=True \\\n",
    "     --do_predict=True \\\n",
    "     --vocab_file=\"/content/drive/My Drive/covid19/data/vocab.txt\" \\\n",
    "     --bert_config_file=\"/content/drive/My Drive/covid19/data/bert_config.json\" \\\n",
    "     --init_checkpoint=\"/content/drive/My Drive/covid19/model/model.ckpt-14599\" \\\n",
    "     --max_seq_length=384 \\\n",
    "     --train_batch_size=4 \\\n",
    "     --learning_rate=5e-6 \\\n",
    "     --doc_stride=128 \\\n",
    "     --num_train_epochs=5.0 \\\n",
    "     --do_lower_case=False \\\n",
    "     --train_file=\"/content/drive/My Drive/covid19/data/BioASQ-6b/train/Full-Abstract/BioASQ-train-factoid-6b-full-annotated.json\" \\\n",
    "     --predict_file=\"/content/drive/My Drive/covid19/data/BioASQ-6b/test/Full-Abstract/BioASQ-test-factoid-6b-3.json\" \\\n",
    "     --output_dir=\"/content/drive/My Drive/covid19/output\""
   ]
  },
  {
   "cell_type": "markdown",
   "metadata": {
    "colab_type": "text",
    "id": "xRxeAMPESlDn"
   },
   "source": [
    "## 6. Infer QnA\n"
   ]
  },
  {
   "cell_type": "code",
   "execution_count": 0,
   "metadata": {
    "colab": {},
    "colab_type": "code",
    "id": "hjf8Hu5yx7C0"
   },
   "outputs": [],
   "source": [
    "%cd \"/content/drive/My Drive/covid19/code\"\n",
    "\n",
    "template = \"\"\"\n",
    "{\n",
    "    \"version\": \"BioASQ6b\", \n",
    "    \"data\": [\n",
    "      {\n",
    "        \"title\": \"BioASQ6b\", \n",
    "        \"paragraphs\": [\n",
    "          {\n",
    "            \"context\": \"[[CONTENT]]\", \n",
    "            \"qas\": [\n",
    "              {\n",
    "                \"question\": \"[[QUERY]]\", \n",
    "                \"id\": \"xx01\"\n",
    "              }\n",
    "            ]\n",
    "          }\n",
    "        ]\n",
    "        }\n",
    "    ]\n",
    "}\n",
    "\"\"\"\n",
    "con = input(\"Enter Context:\")\n",
    "q = input(\"Query:\")\n",
    "template = template.replace(\"[[CONTENT]]\",con)\n",
    "template = template.replace(\"[[QUERY]]\",q)\n",
    "\n",
    "f = open('temp.json','w')\n",
    "f.write(template)\n",
    "f.close()\n",
    "%cd \"/content/drive/My Drive/covid19/code/bioasq-biobert\"\n",
    "!python run_factoid.py \\\n",
    "     --do_train=False \\\n",
    "     --do_predict=True \\\n",
    "     --vocab_file=\"/content/drive/My Drive/covid19/data/vocab.txt\" \\\n",
    "     --bert_config_file=\"/content/drive/My Drive/covid19/data/bert_config.json\" \\\n",
    "     --init_checkpoint=\"/content/drive/My Drive/covid19/model/model.ckpt-14599\" \\\n",
    "     --max_seq_length=384 \\\n",
    "     --train_batch_size=6 \\\n",
    "     --learning_rate=5e-6 \\\n",
    "     --doc_stride=128 \\\n",
    "     --num_train_epochs=5.0 \\\n",
    "     --do_lower_case=False \\\n",
    "     --predict_file=\"/content/drive/My Drive/covid19/code/temp.json\" \\\n",
    "     --output_dir=\"/content/drive/My Drive/covid19/output\"\n",
    "\n",
    "import json\n",
    "pred = json.loads(open('/content/drive/My Drive/covid19/output/predictions.json').read())\n",
    "\n",
    "print(\"\\n\\n\")\n",
    "print(\"Question:\",q)\n",
    "for k in pred:\n",
    "  print(\"Answer:\",pred[k])\n",
    "\n"
   ]
  },
  {
   "cell_type": "markdown",
   "metadata": {
    "colab_type": "text",
    "id": "XLKTF5AjT3rI"
   },
   "source": [
    "## 7. Doc Ranker + Question Answering"
   ]
  },
  {
   "cell_type": "code",
   "execution_count": 0,
   "metadata": {
    "colab": {},
    "colab_type": "code",
    "id": "kqXisVFpV6JS"
   },
   "outputs": [],
   "source": [
    "%cd /content/drive/My Drive/covid19/code/DrQA\n",
    "!pip install -r requirements.txt\n",
    "!pip install elasticsearch==6.0\n",
    "!python setup.py develop\n",
    "\n",
    "import json\n",
    "from drqa import retriever\n",
    "import numpy as np \n",
    "\n",
    "np_load_old = np.load\n",
    "\n",
    "\n",
    "#numpy fix\n",
    "np.load = lambda *a,**k: np_load_old(*a, allow_pickle=True, **k)\n",
    "\n",
    "ranker = retriever.get_class('tfidf')(tfidf_path=\"/content/drive/My Drive/covid19/model/drqa_doc_ranker/doc-tfidf-ngram=2-hash=16777216-tokenizer=simple.npz\")\n",
    "np.load = np_load_oldf = \n",
    "def load_db(path=\"/content/drive/My Drive/covid19/data/data_drqa_retriver.json\"):\n",
    "  x = open(path)\n",
    "  db = {}\n",
    "  for line in x:\n",
    "    j = json.loads(line)\n",
    "    db[j['id']]=j['text']\n",
    "  print()\n",
    "  return db"
   ]
  },
  {
   "cell_type": "code",
   "execution_count": 0,
   "metadata": {
    "colab": {
     "base_uri": "https://localhost:8080/",
     "height": 51
    },
    "colab_type": "code",
    "id": "aC5fkBzFZC7Z",
    "outputId": "57992f6a-4449-4169-b76c-c4c886438979"
   },
   "outputs": [],
   "source": [
    "db = load_db()\n",
    "%cd \"/content/drive/My Drive/covid19/code\"\n",
    "import os\n",
    "import json\n",
    "import subprocess\n",
    "import sys\n",
    "\n",
    "def run(cmd):\n",
    "    proc = subprocess.Popen(cmd,\n",
    "        stdout = subprocess.PIPE,\n",
    "        stderr = subprocess.PIPE,\n",
    "        shell=True\n",
    "    )\n",
    "    stdout, stderr = proc.communicate()\n",
    " \n",
    "    return proc.returncode, stdout, stderr\n",
    "\n",
    "def call(query,k=5):\n",
    "  import prettytable\n",
    "  doc_names, doc_scores = ranker.closest_docs(query, k)\n",
    "  i = 0\n",
    "  for d in doc_names:\n",
    "    doc = db[d]\n",
    "    template = \"\"\"\n",
    "    {\n",
    "        \"version\": \"BioASQ6b\", \n",
    "        \"data\": [\n",
    "          {\n",
    "            \"title\": \"BioASQ6b\", \n",
    "            \"paragraphs\": [\n",
    "              {\n",
    "                \"context\": \"[[CONTENT]]\", \n",
    "                \"qas\": [\n",
    "                  {\n",
    "                    \"question\": \"[[QUERY]]\", \n",
    "                    \"id\": \"xx01\"\n",
    "                  }\n",
    "                ]\n",
    "              }\n",
    "            ]\n",
    "            }\n",
    "        ]\n",
    "    }\n",
    "    \"\"\"\n",
    "    doc = doc.replace('\"','')\n",
    "    template = template.replace(\"[[CONTENT]]\",doc)\n",
    "    template = template.replace(\"[[QUERY]]\",query)\n",
    "    f = open('/content/drive/My Drive/covid19/code/temp.json','w')\n",
    "    f.write(template)\n",
    "    f.close()\n",
    "    # print(doc)\n",
    "    cmd = 'python \"/content/drive/My Drive/covid19/code/bioasq-biobert/run_factoid.py\" --do_train=False --do_predict=True --vocab_file=\"/content/drive/My Drive/covid19/data/vocab.txt\" --bert_config_file=\"/content/drive/My Drive/covid19/data/bert_config.json\" --init_checkpoint=\"/content/drive/My Drive/covid19/output/model.ckpt-1000\" --max_seq_length=384 --train_batch_size=14 --learning_rate=5e-6 --doc_stride=128 --num_train_epochs=5.0 --do_lower_case=False --predict_file=\"/content/drive/My Drive/covid19/code/temp.json\" --output_dir=\"/content/drive/My Drive/covid19/output\"'\n",
    "    code, out, err = run(cmd)\n",
    "    # print(out)\n",
    "    print(err)\n",
    "    pred = json.loads(open('/content/drive/My Drive/covid19/output/predictions.json').read())\n",
    "    os.remove('/content/drive/My Drive/covid19/output/predictions.json')\n",
    "    table = prettytable.PrettyTable(\n",
    "        ['Rank', 'Answer', 'Doc Id']\n",
    "    )\n",
    "    for k in pred:\n",
    "      pred = pred[k]\n",
    "      break\n",
    "    table.add_row([i+1,pred,d])\n",
    "    i+=1\n",
    "    print(table)"
   ]
  },
  {
   "cell_type": "code",
   "execution_count": 0,
   "metadata": {
    "colab": {
     "base_uri": "https://localhost:8080/",
     "height": 1000
    },
    "colab_type": "code",
    "id": "53wZxke7V300",
    "outputId": "33219946-4cac-480f-e1cd-4570bcf364b5"
   },
   "outputs": [],
   "source": [
    "query=\"How much risk a smoker have compared to a non smoker for covid ?\"\n",
    "call(query, k=10)"
   ]
  },
  {
   "cell_type": "code",
   "execution_count": 0,
   "metadata": {
    "colab": {
     "base_uri": "https://localhost:8080/",
     "height": 1000
    },
    "colab_type": "code",
    "id": "tIufxSa2wTsT",
    "outputId": "061614f3-bd59-46dc-da5e-57cf0b45a568"
   },
   "outputs": [],
   "source": [
    "!top"
   ]
  }
 ],
 "metadata": {
  "colab": {
   "collapsed_sections": [],
   "name": "cord.ipynb",
   "provenance": []
  },
  "kernelspec": {
   "display_name": "Python 3",
   "language": "python",
   "name": "python3"
  },
  "language_info": {
   "codemirror_mode": {
    "name": "ipython",
    "version": 3
   },
   "file_extension": ".py",
   "mimetype": "text/x-python",
   "name": "python",
   "nbconvert_exporter": "python",
   "pygments_lexer": "ipython3",
   "version": "3.6.7"
  },
  "latex_envs": {
   "LaTeX_envs_menu_present": true,
   "autoclose": true,
   "autocomplete": true,
   "bibliofile": "biblio.bib",
   "cite_by": "apalike",
   "current_citInitial": 1,
   "eqLabelWithNumbers": true,
   "eqNumInitial": 1,
   "hotkeys": {
    "equation": "Ctrl-E",
    "itemize": "Ctrl-I"
   },
   "labels_anchors": false,
   "latex_user_defs": false,
   "report_style_numbering": false,
   "user_envs_cfg": false
  }
 },
 "nbformat": 4,
 "nbformat_minor": 4
}
